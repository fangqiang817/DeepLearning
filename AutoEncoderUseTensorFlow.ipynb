{
 "cells": [
  {
   "cell_type": "code",
   "execution_count": 1,
   "metadata": {},
   "outputs": [
    {
     "name": "stderr",
     "output_type": "stream",
     "text": [
      "C:\\ProgramData\\Anaconda3\\lib\\site-packages\\h5py\\__init__.py:36: FutureWarning: Conversion of the second argument of issubdtype from `float` to `np.floating` is deprecated. In future, it will be treated as `np.float64 == np.dtype(float).type`.\n",
      "  from ._conv import register_converters as _register_converters\n"
     ]
    }
   ],
   "source": [
    "import numpy as np\n",
    "import sklearn.preprocessing as prep\n",
    "import tensorflow as tf\n",
    "from tensorflow.examples.tutorials.mnist import input_data"
   ]
  },
  {
   "cell_type": "code",
   "execution_count": 2,
   "metadata": {},
   "outputs": [],
   "source": [
    "#定义Xaiver初始化器\n",
    "def xavier_init(fan_in,fan_out,constant=1):\n",
    "    low = -constant*np.sqrt(6.0/(fan_in + fan_out))\n",
    "    high = -constant*np.sqrt(6.0/(fan_in + fan_out))\n",
    "    return tf.random_uniform((fan_in,fan_out),\n",
    "                            minval=low,maxval=high,\n",
    "                            dtype=tf.float32)"
   ]
  },
  {
   "cell_type": "code",
   "execution_count": 14,
   "metadata": {},
   "outputs": [],
   "source": [
    "#定义去噪自编码的class\n",
    "class AdditiveGaussianNoiseAutoencoder(object):\n",
    "    def __init__(self,n_input,n_hidden,transfer_function=tf.nn.softplus,\n",
    "                optimizer = tf.train.AdamOptimizer(),scale = 0.1):\n",
    "        self.n_input = n_input\n",
    "        self.n_hidden = n_hidden\n",
    "        self.transfer = transfer_function\n",
    "        self.scale = tf.placeholder(tf.float32)\n",
    "        self.training_scale = scale\n",
    "        network_wights = self._initialize_weights()\n",
    "        self.weights = network_wights\n",
    "        #定义网络结构\n",
    "        self.x = tf.placeholder(tf.float32,[None,self.n_input])\n",
    "        self.hidden = self.transfer(tf.add(tf.matmul(self.x + scale * tf.random_normal((n_input,)),\n",
    "                                                    self.weights['w1']),self.weights['b1']))\n",
    "        self.reconstruction = tf.add(tf.matmul(self.hidden,self.weights['w2']),self.weights['b2'])\n",
    "        #定义自编码器的损失函数\n",
    "        self.cost = 0.5 * tf.reduce_sum(tf.pow(tf.subtract(self.reconstruction,self.x),2.0))\n",
    "        self.optimizer = optimizer.minimize(self.cost)\n",
    "        init = tf.global_variables_initializer()\n",
    "        self.sess = tf.Session()\n",
    "        self.sess.run(init)\n",
    "    #定义初始化权重的函数\n",
    "    def _initialize_weights(self):\n",
    "        all_weights = dict()\n",
    "        all_weights['w1'] = tf.Variable(xavier_init(self.n_input,self.n_hidden))\n",
    "        all_weights['b1'] = tf.Variable(tf.zeros([self.n_hidden],dtype = tf.float32))\n",
    "        all_weights['w2'] = tf.Variable(tf.zeros([self.n_hidden,self.n_input],dtype=tf.float32))\n",
    "        all_weights['b2'] = tf.Variable(tf.zeros([self.n_input],dtype = tf.float32))\n",
    "        return all_weights\n",
    "    #定义损失cost及一步训练的函数\n",
    "    def partial_fit(self,X):\n",
    "        cost,opt = self.sess.run((self.cost,self.optimizer),\n",
    "                                feed_dict={self.x:X,self.scale:self.training_scale})\n",
    "        return cost\n",
    "    #定义一个总体性能评价的cost\n",
    "    def calc_total_cost(self,X):\n",
    "        return self.sess.run(self.cost,feed_dict = {self.x:X,\n",
    "                                                   self.scale:self.training_scale})\n",
    "    #定义函数，返回自编码器隐含层的输出结果\n",
    "    def transform(self,X):\n",
    "        return self.sess.run(self.hidden,feed_dict={self.x:X,\n",
    "                                                   self.scale:slef.training_scale})\n",
    "    #定义函数，它将隐含层的输出结果作为输入，通过之后的重建层将提取到的高阶特征复原为原始数据\n",
    "    def generate(self,hidden = None):\n",
    "        if hidden is None:\n",
    "            hidden = np.random.normal(size = self.weights['b1'])\n",
    "        return self.sess.run(self.reconstruction,feed_dict={self.hidden:hidden})\n",
    "    #定义函数，它整体运行一遍复原过程，包括提取高阶特征和通过高阶特征复原数据\n",
    "    def reconstruct(self,X):\n",
    "        return self.sess.run(self.reconstruction,feed_dict={self.x:X,self.scale:self.training_scale})\n",
    "    #获取w1的权重\n",
    "    def getWeights(self):\n",
    "        return self.sess.run(self.weights['w1'])\n",
    "    #获取偏置系数b1\n",
    "    def getBiases(self):\n",
    "        return self.sess.run(self.weights['b1'])"
   ]
  },
  {
   "cell_type": "code",
   "execution_count": 5,
   "metadata": {},
   "outputs": [
    {
     "name": "stdout",
     "output_type": "stream",
     "text": [
      "Extracting MNIST_data\\train-images-idx3-ubyte.gz\n",
      "Extracting MNIST_data\\train-labels-idx1-ubyte.gz\n",
      "Extracting MNIST_data\\t10k-images-idx3-ubyte.gz\n",
      "Extracting MNIST_data\\t10k-labels-idx1-ubyte.gz\n"
     ]
    }
   ],
   "source": [
    "#使用定义好的AGN自编码器在MNIST数据集上进行一些简单的性能测试\n",
    "mnist = input_data.read_data_sets('MNIST_data',one_hot=True)"
   ]
  },
  {
   "cell_type": "code",
   "execution_count": 6,
   "metadata": {},
   "outputs": [],
   "source": [
    "#定义一个对训练、测试数据进行标准化的处理函数\n",
    "def standard_scale(X_train,X_test):\n",
    "    preprocessor = prep.StandardScaler().fit(X_train)\n",
    "    X_train = preprocessor.transform(X_train)\n",
    "    X_test = preprocessor.transform(X_test)\n",
    "    return X_train,X_test"
   ]
  },
  {
   "cell_type": "code",
   "execution_count": 17,
   "metadata": {},
   "outputs": [],
   "source": [
    "#定义一个获取随机数据的函数\n",
    "def get_random_block_from_data(data,batch_size):\n",
    "    start_index = np.random.randint(0,len(data) - batch_size)\n",
    "    return data[start_index:(start_index + batch_size)]"
   ]
  },
  {
   "cell_type": "code",
   "execution_count": 8,
   "metadata": {},
   "outputs": [],
   "source": [
    "#对数据集进行标\n",
    "X_train,X_test = standard_scale(mnist.train.images,mnist.test.images)"
   ]
  },
  {
   "cell_type": "code",
   "execution_count": 9,
   "metadata": {},
   "outputs": [],
   "source": [
    "n_samples = int(mnist.train.num_examples)\n",
    "training_epochs = 20\n",
    "batch_size = 128\n",
    "display_step = 1"
   ]
  },
  {
   "cell_type": "code",
   "execution_count": 15,
   "metadata": {},
   "outputs": [],
   "source": [
    "#创建一个AGN自编码器的实例，输入节点数为784，同时将噪声系数scale设为0.01\n",
    "autoencoder = AdditiveGaussianNoiseAutoencoder(n_input=784,\n",
    "                                              n_hidden = 200,\n",
    "                                              transfer_function = tf.nn.softplus,\n",
    "                                              optimizer = tf.train.AdamOptimizer(learning_rate=0.001),\n",
    "                                              scale = 0.01)"
   ]
  },
  {
   "cell_type": "code",
   "execution_count": 18,
   "metadata": {},
   "outputs": [
    {
     "name": "stdout",
     "output_type": "stream",
     "text": [
      "Epoch: 0001 cost= 45445.916527273\n",
      "Epoch: 0002 cost= 42612.156227273\n",
      "Epoch: 0003 cost= 43387.770254545\n",
      "Epoch: 0004 cost= 49525.550863636\n",
      "Epoch: 0005 cost= 83516.518463636\n",
      "Epoch: 0006 cost= 70763.390345455\n",
      "Epoch: 0007 cost= 49966.543963636\n",
      "Epoch: 0008 cost= 67485.044136364\n",
      "Epoch: 0009 cost= 60004.245690909\n",
      "Epoch: 0010 cost= 46704.477836364\n",
      "Epoch: 0011 cost= 45677.509395455\n",
      "Epoch: 0012 cost= 47292.632931818\n",
      "Epoch: 0013 cost= 45479.448477273\n",
      "Epoch: 0014 cost= 51461.811440909\n",
      "Epoch: 0015 cost= 46911.890168182\n",
      "Epoch: 0016 cost= 46454.842904545\n",
      "Epoch: 0017 cost= 44237.087450000\n",
      "Epoch: 0018 cost= 42088.748681818\n",
      "Epoch: 0019 cost= 43853.946654545\n",
      "Epoch: 0020 cost= 46879.267472727\n"
     ]
    }
   ],
   "source": [
    "for epoch in range(training_epochs):\n",
    "    avg_cost = 0.\n",
    "    total_batch = int(n_samples / batch_size)\n",
    "    for i in range(total_batch):\n",
    "        batch_xs = get_random_block_from_data(X_train,batch_size)\n",
    "        cost = autoencoder.partial_fit(batch_xs)\n",
    "        avg_cost += cost / n_samples*batch_size\n",
    "    if epoch % display_step == 0:\n",
    "        print('Epoch:','%04d'%(epoch+1),'cost=','{:.9f}'.format(avg_cost))"
   ]
  },
  {
   "cell_type": "code",
   "execution_count": 19,
   "metadata": {},
   "outputs": [
    {
     "name": "stdout",
     "output_type": "stream",
     "text": [
      "Total cost:3910121.8\n"
     ]
    }
   ],
   "source": [
    "print(\"Total cost:\"+str(autoencoder.calc_total_cost(X_test)))"
   ]
  },
  {
   "cell_type": "code",
   "execution_count": null,
   "metadata": {},
   "outputs": [],
   "source": [
    "#实现自编码器和实现一个但隐含层的神经网络差不多，只不过是数据输入时做了标准化\n",
    "#并加上了一个高斯噪声，同时我们的输出结果不是数字分类结果，而是复原的数据"
   ]
  }
 ],
 "metadata": {
  "kernelspec": {
   "display_name": "Python 3",
   "language": "python",
   "name": "python3"
  },
  "language_info": {
   "codemirror_mode": {
    "name": "ipython",
    "version": 3
   },
   "file_extension": ".py",
   "mimetype": "text/x-python",
   "name": "python",
   "nbconvert_exporter": "python",
   "pygments_lexer": "ipython3",
   "version": "3.6.4"
  },
  "toc": {
   "base_numbering": 1,
   "nav_menu": {},
   "number_sections": true,
   "sideBar": true,
   "skip_h1_title": false,
   "title_cell": "Table of Contents",
   "title_sidebar": "Contents",
   "toc_cell": false,
   "toc_position": {},
   "toc_section_display": true,
   "toc_window_display": false
  }
 },
 "nbformat": 4,
 "nbformat_minor": 2
}
